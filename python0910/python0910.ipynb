{
 "cells": [
  {
   "cell_type": "code",
   "execution_count": 4,
   "metadata": {},
   "outputs": [
    {
     "name": "stdout",
     "output_type": "stream",
     "text": [
      "[10, 20, 30, 40, 50]\n"
     ]
    }
   ],
   "source": [
    "#Estrutura de repetiçãp\n",
    "\n",
    "lista = []\n",
    "\n",
    "for i in range(5):\n",
    "    num = int(input(\"Digite um número\"))\n",
    "    lista.append(num)\n",
    "\n",
    "print(lista)"
   ]
  },
  {
   "cell_type": "code",
   "execution_count": 6,
   "metadata": {},
   "outputs": [
    {
     "ename": "IndentationError",
     "evalue": "expected an indented block after 'for' statement on line 1 (3758443707.py, line 3)",
     "output_type": "error",
     "traceback": [
      "\u001b[1;36m  Cell \u001b[1;32mIn[6], line 3\u001b[1;36m\u001b[0m\n\u001b[1;33m    sum(lista)\u001b[0m\n\u001b[1;37m    ^\u001b[0m\n\u001b[1;31mIndentationError\u001b[0m\u001b[1;31m:\u001b[0m expected an indented block after 'for' statement on line 1\n"
     ]
    }
   ],
   "source": [
    "soma = 0\n",
    "for k in lista:\n",
    "    soma += k\n",
    "    print(soma)\n"
   ]
  },
  {
   "cell_type": "code",
   "execution_count": 2,
   "metadata": {},
   "outputs": [
    {
     "name": "stdout",
     "output_type": "stream",
     "text": [
      "1 a\n",
      "1 b\n",
      "1 c\n",
      "2 a\n",
      "2 b\n",
      "2 c\n",
      "3 a\n",
      "3 b\n",
      "3 c\n"
     ]
    }
   ],
   "source": [
    "lista_numero = [1,2,3]\n",
    "lista_letra = ['a', 'b', 'c']\n",
    "\n",
    "for i in lista_numero:\n",
    "    for k in lista_letra:\n",
    "        print(i,k)"
   ]
  },
  {
   "cell_type": "code",
   "execution_count": 11,
   "metadata": {},
   "outputs": [
    {
     "name": "stdout",
     "output_type": "stream",
     "text": [
      "O aluno fez 2 pontos\n"
     ]
    }
   ],
   "source": [
    "pontos = 0\n",
    "questao = 1\n",
    "\n",
    "while questao <= 3:\n",
    "    resposta = input(f\"Respota da questão {questao}\")\n",
    "\n",
    "    if questao == 1 and resposta == 'b':\n",
    "        pontos = pontos + 1\n",
    "    if questao == 2 and resposta == 'a':\n",
    "        pontos = pontos +1\n",
    "    if questao == 3 and resposta == 'd':\n",
    "        pontos = pontos +1\n",
    "\n",
    "    questao = questao + 1\n",
    "\n",
    "print(f\"O aluno fez {pontos} pontos\")"
   ]
  },
  {
   "cell_type": "code",
   "execution_count": 17,
   "metadata": {},
   "outputs": [
    {
     "name": "stdout",
     "output_type": "stream",
     "text": [
      "1 x 1 = 1 * 1\n",
      "1 x 2 = 1 * 2\n",
      "1 x 3 = 1 * 3\n",
      "1 x 4 = 1 * 4\n",
      "1 x 5 = 1 * 5\n",
      "1 x 6 = 1 * 6\n",
      "1 x 7 = 1 * 7\n",
      "1 x 8 = 1 * 8\n",
      "1 x 9 = 1 * 9\n",
      "1 x 10 = 1 * 10\n",
      "2 x 1 = 2 * 1\n",
      "2 x 2 = 2 * 2\n",
      "2 x 3 = 2 * 3\n",
      "2 x 4 = 2 * 4\n",
      "2 x 5 = 2 * 5\n",
      "2 x 6 = 2 * 6\n",
      "2 x 7 = 2 * 7\n",
      "2 x 8 = 2 * 8\n",
      "2 x 9 = 2 * 9\n",
      "2 x 10 = 2 * 10\n",
      "3 x 1 = 3 * 1\n",
      "3 x 2 = 3 * 2\n",
      "3 x 3 = 3 * 3\n",
      "3 x 4 = 3 * 4\n",
      "3 x 5 = 3 * 5\n",
      "3 x 6 = 3 * 6\n",
      "3 x 7 = 3 * 7\n",
      "3 x 8 = 3 * 8\n",
      "3 x 9 = 3 * 9\n",
      "3 x 10 = 3 * 10\n",
      "4 x 1 = 4 * 1\n",
      "4 x 2 = 4 * 2\n",
      "4 x 3 = 4 * 3\n",
      "4 x 4 = 4 * 4\n",
      "4 x 5 = 4 * 5\n",
      "4 x 6 = 4 * 6\n",
      "4 x 7 = 4 * 7\n",
      "4 x 8 = 4 * 8\n",
      "4 x 9 = 4 * 9\n",
      "4 x 10 = 4 * 10\n",
      "5 x 1 = 5 * 1\n",
      "5 x 2 = 5 * 2\n",
      "5 x 3 = 5 * 3\n",
      "5 x 4 = 5 * 4\n",
      "5 x 5 = 5 * 5\n",
      "5 x 6 = 5 * 6\n",
      "5 x 7 = 5 * 7\n",
      "5 x 8 = 5 * 8\n",
      "5 x 9 = 5 * 9\n",
      "5 x 10 = 5 * 10\n",
      "6 x 1 = 6 * 1\n",
      "6 x 2 = 6 * 2\n",
      "6 x 3 = 6 * 3\n",
      "6 x 4 = 6 * 4\n",
      "6 x 5 = 6 * 5\n",
      "6 x 6 = 6 * 6\n",
      "6 x 7 = 6 * 7\n",
      "6 x 8 = 6 * 8\n",
      "6 x 9 = 6 * 9\n",
      "6 x 10 = 6 * 10\n",
      "7 x 1 = 7 * 1\n",
      "7 x 2 = 7 * 2\n",
      "7 x 3 = 7 * 3\n",
      "7 x 4 = 7 * 4\n",
      "7 x 5 = 7 * 5\n",
      "7 x 6 = 7 * 6\n",
      "7 x 7 = 7 * 7\n",
      "7 x 8 = 7 * 8\n",
      "7 x 9 = 7 * 9\n",
      "7 x 10 = 7 * 10\n",
      "8 x 1 = 8 * 1\n",
      "8 x 2 = 8 * 2\n",
      "8 x 3 = 8 * 3\n",
      "8 x 4 = 8 * 4\n",
      "8 x 5 = 8 * 5\n",
      "8 x 6 = 8 * 6\n",
      "8 x 7 = 8 * 7\n",
      "8 x 8 = 8 * 8\n",
      "8 x 9 = 8 * 9\n",
      "8 x 10 = 8 * 10\n",
      "9 x 1 = 9 * 1\n",
      "9 x 2 = 9 * 2\n",
      "9 x 3 = 9 * 3\n",
      "9 x 4 = 9 * 4\n",
      "9 x 5 = 9 * 5\n",
      "9 x 6 = 9 * 6\n",
      "9 x 7 = 9 * 7\n",
      "9 x 8 = 9 * 8\n",
      "9 x 9 = 9 * 9\n",
      "9 x 10 = 9 * 10\n",
      "10 x 1 = 10 * 1\n",
      "10 x 2 = 10 * 2\n",
      "10 x 3 = 10 * 3\n",
      "10 x 4 = 10 * 4\n",
      "10 x 5 = 10 * 5\n",
      "10 x 6 = 10 * 6\n",
      "10 x 7 = 10 * 7\n",
      "10 x 8 = 10 * 8\n",
      "10 x 9 = 10 * 9\n",
      "10 x 10 = 10 * 10\n"
     ]
    }
   ],
   "source": [
    "tabuada = 1\n",
    "\n",
    "while tabuada <= 10:\n",
    "\n",
    "    numero = 1\n",
    "\n",
    "    while numero <= 10:\n",
    "\n",
    "        print(f\"{tabuada} x {numero} = {tabuada} *  {numero}\")\n",
    "\n",
    "        numero += 1\n",
    "\n",
    "    tabuada += 1\n",
    "\n"
   ]
  },
  {
   "cell_type": "code",
   "execution_count": 20,
   "metadata": {},
   "outputs": [
    {
     "name": "stdout",
     "output_type": "stream",
     "text": [
      "1 x 1 = 1\n",
      "1 x 2 = 2\n",
      "1 x 3 = 3\n",
      "1 x 4 = 4\n",
      "1 x 5 = 5\n",
      "1 x 6 = 6\n",
      "1 x 7 = 7\n",
      "1 x 8 = 8\n",
      "1 x 9 = 9\n",
      "1 x 10 = 10\n",
      "2 x 1 = 2\n",
      "2 x 2 = 4\n",
      "2 x 3 = 6\n",
      "2 x 4 = 8\n",
      "2 x 5 = 10\n",
      "2 x 6 = 12\n",
      "2 x 7 = 14\n",
      "2 x 8 = 16\n",
      "2 x 9 = 18\n",
      "2 x 10 = 20\n",
      "3 x 1 = 3\n",
      "3 x 2 = 6\n",
      "3 x 3 = 9\n",
      "3 x 4 = 12\n",
      "3 x 5 = 15\n",
      "3 x 6 = 18\n",
      "3 x 7 = 21\n",
      "3 x 8 = 24\n",
      "3 x 9 = 27\n",
      "3 x 10 = 30\n",
      "4 x 1 = 4\n",
      "4 x 2 = 8\n",
      "4 x 3 = 12\n",
      "4 x 4 = 16\n",
      "4 x 5 = 20\n",
      "4 x 6 = 24\n",
      "4 x 7 = 28\n",
      "4 x 8 = 32\n",
      "4 x 9 = 36\n",
      "4 x 10 = 40\n",
      "5 x 1 = 5\n",
      "5 x 2 = 10\n",
      "5 x 3 = 15\n",
      "5 x 4 = 20\n",
      "5 x 5 = 25\n",
      "5 x 6 = 30\n",
      "5 x 7 = 35\n",
      "5 x 8 = 40\n",
      "5 x 9 = 45\n",
      "5 x 10 = 50\n",
      "6 x 1 = 6\n",
      "6 x 2 = 12\n",
      "6 x 3 = 18\n",
      "6 x 4 = 24\n",
      "6 x 5 = 30\n",
      "6 x 6 = 36\n",
      "6 x 7 = 42\n",
      "6 x 8 = 48\n",
      "6 x 9 = 54\n",
      "6 x 10 = 60\n",
      "7 x 1 = 7\n",
      "7 x 2 = 14\n",
      "7 x 3 = 21\n",
      "7 x 4 = 28\n",
      "7 x 5 = 35\n",
      "7 x 6 = 42\n",
      "7 x 7 = 49\n",
      "7 x 8 = 56\n",
      "7 x 9 = 63\n",
      "7 x 10 = 70\n",
      "8 x 1 = 8\n",
      "8 x 2 = 16\n",
      "8 x 3 = 24\n",
      "8 x 4 = 32\n",
      "8 x 5 = 40\n",
      "8 x 6 = 48\n",
      "8 x 7 = 56\n",
      "8 x 8 = 64\n",
      "8 x 9 = 72\n",
      "8 x 10 = 80\n",
      "9 x 1 = 9\n",
      "9 x 2 = 18\n",
      "9 x 3 = 27\n",
      "9 x 4 = 36\n",
      "9 x 5 = 45\n",
      "9 x 6 = 54\n",
      "9 x 7 = 63\n",
      "9 x 8 = 72\n",
      "9 x 9 = 81\n",
      "9 x 10 = 90\n",
      "10 x 1 = 10\n",
      "10 x 2 = 20\n",
      "10 x 3 = 30\n",
      "10 x 4 = 40\n",
      "10 x 5 = 50\n",
      "10 x 6 = 60\n",
      "10 x 7 = 70\n",
      "10 x 8 = 80\n",
      "10 x 9 = 90\n",
      "10 x 10 = 100\n"
     ]
    }
   ],
   "source": [
    "for i in range(1, 11):\n",
    "    for j in range(1 ,11):\n",
    "        print(f'{i} x {j} = {i*j}')\n"
   ]
  },
  {
   "cell_type": "code",
   "execution_count": 21,
   "metadata": {},
   "outputs": [
    {
     "name": "stdout",
     "output_type": "stream",
     "text": [
      "Nota igual encontrada: 7\n",
      "Nota igual encontrada: 8\n",
      "Nota igual encontrada: 9\n",
      "Nota igual encontrada: 10\n"
     ]
    }
   ],
   "source": [
    "aluno1 = [7,8,9,10,6]\n",
    "aluno2 = [8,9,10,5,7]\n",
    "\n",
    "for nota1 in aluno1:\n",
    "    for nota2 in aluno2:\n",
    "        if nota1 == nota2:\n",
    "            print(f\"Nota igual encontrada: {nota1}\")"
   ]
  },
  {
   "cell_type": "code",
   "execution_count": 83,
   "metadata": {},
   "outputs": [
    {
     "name": "stdout",
     "output_type": "stream",
     "text": [
      "A soma dos elementos na posição 0: 15\n",
      "A soma dos elementos na posição 1: 17\n",
      "A soma dos elementos na posição 2: 19\n",
      "A soma dos elementos na posição 3: 15\n",
      "A soma dos elementos na posição 4: 13\n"
     ]
    }
   ],
   "source": [
    "aluno1 = [7,8,9,10,6]\n",
    "aluno2 = [8,9,10,5,7]\n",
    "\n",
    "for i in range(len(aluno1)):\n",
    "    for k in range(len(aluno2)):\n",
    "  \n",
    "        if i == k:\n",
    "            print(f\"A soma dos elementos na posição {i}: {aluno1[i] + aluno2[k]}\")"
   ]
  },
  {
   "cell_type": "code",
   "execution_count": 48,
   "metadata": {},
   "outputs": [
    {
     "name": "stdout",
     "output_type": "stream",
     "text": [
      "A palavra python tem 1 vogais\n",
      "A palavra c tem 0 vogais\n",
      "A palavra javascript tem 3 vogais\n",
      "A palavra matlab tem 2 vogais\n"
     ]
    }
   ],
   "source": [
    "palavras = ['python', 'c', 'javascript', 'matlab']\n",
    "\n",
    "vogais = 'aeiou'\n",
    "\n",
    "for palavra in palavras:\n",
    "    count_vogais = 0\n",
    "\n",
    "    for letra in palavra:\n",
    "\n",
    "        if letra in vogais:\n",
    "            count_vogais += 1\n",
    "    print(f\"A palavra {palavra} tem {count_vogais} vogais\")"
   ]
  },
  {
   "cell_type": "markdown",
   "metadata": {},
   "source": [
    "# 1. EXC\n",
    "\n",
    "\n",
    "\n",
    "Crie uma estrutura para procurar substrings em uma lista de frases\n",
    "\n",
    "frases = ['o rato roeu a roupa', 'a casa está suja'. 'python é interessante']\n",
    "\n",
    "palavras_chaves = ['rato', 'casa', 'python']\n",
    "\n",
    "conte a quantidade de vezes que a palavra chave aparece no texto\n",
    "\n",
    "# 2. EXC\n",
    "\n",
    "crie uma estrutura para criar uma tabuada que mostre apenas valores de 2 até 6.\n",
    "\n",
    "# 3. EXC\n",
    "\n",
    "crie uma estrutura para somar os valores de duas listas. Em seguida, retorne apenas os valores cujo resultado é maior do que 50;\n",
    "\n",
    "lista1 = [10, 20, 30, 40, 50]\n",
    "lista2 = [20, 10, 40, 30, 20]\n"
   ]
  },
  {
   "cell_type": "code",
   "execution_count": 142,
   "metadata": {},
   "outputs": [
    {
     "name": "stdout",
     "output_type": "stream",
     "text": [
      "A palavra o rato casa roeu a roupa  tem 2 palavras - chaves\n",
      "A palavra A casa está suja tem 1 palavras - chaves\n",
      "A palavra Python é interessante tem 1 palavras - chaves\n"
     ]
    }
   ],
   "source": [
    "palavras = ['o rato roeu a roupa ', 'A casa está suja', 'Python é interessante']\n",
    "\n",
    "palavras_chaves = ['rato', 'casa', 'python']\n",
    "\n",
    "for frase in palavras:\n",
    "    count_palavras_chaves = 0\n",
    "\n",
    "    for palavra in palavras_chaves:\n",
    "\n",
    "        if palavra.lower() in frase.lower():\n",
    "            count_palavras_chaves += 1\n",
    "    print(f\"A palavra {frase} tem {count_palavras_chaves} palavras - chaves\")"
   ]
  },
  {
   "cell_type": "code",
   "execution_count": 76,
   "metadata": {},
   "outputs": [
    {
     "name": "stdout",
     "output_type": "stream",
     "text": [
      "1 x 1 = 1\n",
      "1 x 2 = 2\n",
      "1 x 3 = 3\n",
      "1 x 4 = 4\n",
      "1 x 5 = 5\n",
      "1 x 6 = 6\n",
      "2 x 1 = 2\n",
      "2 x 2 = 4\n",
      "2 x 3 = 6\n",
      "2 x 4 = 8\n",
      "2 x 5 = 10\n",
      "2 x 6 = 12\n",
      "3 x 1 = 3\n",
      "3 x 2 = 6\n",
      "3 x 3 = 9\n",
      "3 x 4 = 12\n",
      "3 x 5 = 15\n",
      "3 x 6 = 18\n",
      "4 x 1 = 4\n",
      "4 x 2 = 8\n",
      "4 x 3 = 12\n",
      "4 x 4 = 16\n",
      "4 x 5 = 20\n",
      "4 x 6 = 24\n",
      "5 x 1 = 5\n",
      "5 x 2 = 10\n",
      "5 x 3 = 15\n",
      "5 x 4 = 20\n",
      "5 x 5 = 25\n",
      "5 x 6 = 30\n",
      "6 x 1 = 6\n",
      "6 x 2 = 12\n",
      "6 x 3 = 18\n",
      "6 x 4 = 24\n",
      "6 x 5 = 30\n",
      "6 x 6 = 36\n"
     ]
    }
   ],
   "source": [
    "for i in range(1, 7):\n",
    "    for j in range(1 ,7):\n",
    "        print(f'{i} x {j} = {i*j}')"
   ]
  },
  {
   "cell_type": "code",
   "execution_count": 95,
   "metadata": {},
   "outputs": [
    {
     "name": "stdout",
     "output_type": "stream",
     "text": [
      "A soma dos elementos 10: [10, 20, 30, 40, 50, 20, 10, 40, 30, 20]\n",
      "A soma dos elementos 10: [10, 20, 30, 40, 50, 20, 10, 40, 30, 20]\n",
      "A soma dos elementos 10: [10, 20, 30, 40, 50, 20, 10, 40, 30, 20]\n",
      "A soma dos elementos 10: [10, 20, 30, 40, 50, 20, 10, 40, 30, 20]\n",
      "A soma dos elementos 10: [10, 20, 30, 40, 50, 20, 10, 40, 30, 20]\n",
      "A soma dos elementos 20: [10, 20, 30, 40, 50, 20, 10, 40, 30, 20]\n",
      "A soma dos elementos 20: [10, 20, 30, 40, 50, 20, 10, 40, 30, 20]\n",
      "A soma dos elementos 20: [10, 20, 30, 40, 50, 20, 10, 40, 30, 20]\n",
      "A soma dos elementos 20: [10, 20, 30, 40, 50, 20, 10, 40, 30, 20]\n",
      "A soma dos elementos 20: [10, 20, 30, 40, 50, 20, 10, 40, 30, 20]\n",
      "A soma dos elementos 30: [10, 20, 30, 40, 50, 20, 10, 40, 30, 20]\n",
      "A soma dos elementos 30: [10, 20, 30, 40, 50, 20, 10, 40, 30, 20]\n",
      "A soma dos elementos 30: [10, 20, 30, 40, 50, 20, 10, 40, 30, 20]\n",
      "A soma dos elementos 30: [10, 20, 30, 40, 50, 20, 10, 40, 30, 20]\n",
      "A soma dos elementos 30: [10, 20, 30, 40, 50, 20, 10, 40, 30, 20]\n",
      "A soma dos elementos 40: [10, 20, 30, 40, 50, 20, 10, 40, 30, 20]\n",
      "A soma dos elementos 40: [10, 20, 30, 40, 50, 20, 10, 40, 30, 20]\n",
      "A soma dos elementos 40: [10, 20, 30, 40, 50, 20, 10, 40, 30, 20]\n",
      "A soma dos elementos 40: [10, 20, 30, 40, 50, 20, 10, 40, 30, 20]\n",
      "A soma dos elementos 40: [10, 20, 30, 40, 50, 20, 10, 40, 30, 20]\n",
      "A soma dos elementos 50: [10, 20, 30, 40, 50, 20, 10, 40, 30, 20]\n",
      "A soma dos elementos 50: [10, 20, 30, 40, 50, 20, 10, 40, 30, 20]\n",
      "A soma dos elementos 50: [10, 20, 30, 40, 50, 20, 10, 40, 30, 20]\n",
      "A soma dos elementos 50: [10, 20, 30, 40, 50, 20, 10, 40, 30, 20]\n",
      "A soma dos elementos 50: [10, 20, 30, 40, 50, 20, 10, 40, 30, 20]\n"
     ]
    }
   ],
   "source": [
    "lista1 = [10, 20, 30, 40, 50]\n",
    "lista2 = [20, 10, 40, 30, 20]\n",
    "\n",
    "for i in lista1:\n",
    "    for k in lista2:\n",
    "\n",
    "        if  >= 50:\n",
    "            print(f\"A soma dos elementos {i}: {lista1 + lista2}\")\n",
    "        \n",
    "    \n",
    "\n",
    "  \n",
    "\n"
   ]
  }
 ],
 "metadata": {
  "kernelspec": {
   "display_name": "Python 3",
   "language": "python",
   "name": "python3"
  },
  "language_info": {
   "codemirror_mode": {
    "name": "ipython",
    "version": 3
   },
   "file_extension": ".py",
   "mimetype": "text/x-python",
   "name": "python",
   "nbconvert_exporter": "python",
   "pygments_lexer": "ipython3",
   "version": "3.12.3"
  }
 },
 "nbformat": 4,
 "nbformat_minor": 2
}
