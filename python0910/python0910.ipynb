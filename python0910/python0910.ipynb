{
 "cells": [
  {
   "cell_type": "code",
   "execution_count": 4,
   "metadata": {},
   "outputs": [
    {
     "name": "stdout",
     "output_type": "stream",
     "text": [
      "[10, 20, 30, 40, 50]\n"
     ]
    }
   ],
   "source": [
    "#Estrutura de repetiçãp\n",
    "\n",
    "lista = []\n",
    "\n",
    "for i in range(5):\n",
    "    num = int(input(\"Digite um número\"))\n",
    "    lista.append(num)\n",
    "\n",
    "print(lista)"
   ]
  },
  {
   "cell_type": "code",
   "execution_count": 6,
   "metadata": {},
   "outputs": [
    {
     "ename": "IndentationError",
     "evalue": "expected an indented block after 'for' statement on line 1 (3758443707.py, line 3)",
     "output_type": "error",
     "traceback": [
      "\u001b[1;36m  Cell \u001b[1;32mIn[6], line 3\u001b[1;36m\u001b[0m\n\u001b[1;33m    sum(lista)\u001b[0m\n\u001b[1;37m    ^\u001b[0m\n\u001b[1;31mIndentationError\u001b[0m\u001b[1;31m:\u001b[0m expected an indented block after 'for' statement on line 1\n"
     ]
    }
   ],
   "source": [
    "soma = 0\n",
    "for k in lista:\n",
    "    soma += k\n",
    "    print(soma)\n"
   ]
  },
  {
   "cell_type": "code",
   "execution_count": 2,
   "metadata": {},
   "outputs": [
    {
     "name": "stdout",
     "output_type": "stream",
     "text": [
      "1 a\n",
      "1 b\n",
      "1 c\n",
      "2 a\n",
      "2 b\n",
      "2 c\n",
      "3 a\n",
      "3 b\n",
      "3 c\n"
     ]
    }
   ],
   "source": [
    "lista_numero = [1,2,3]\n",
    "lista_letra = ['a', 'b', 'c']\n",
    "\n",
    "for i in lista_numero:\n",
    "    for k in lista_letra:\n",
    "        print(i,k)"
   ]
  },
  {
   "cell_type": "code",
   "execution_count": 11,
   "metadata": {},
   "outputs": [
    {
     "name": "stdout",
     "output_type": "stream",
     "text": [
      "O aluno fez 2 pontos\n"
     ]
    }
   ],
   "source": [
    "pontos = 0\n",
    "questao = 1\n",
    "\n",
    "while questao <= 3:\n",
    "    resposta = input(f\"Respota da questão {questao}\")\n",
    "\n",
    "    if questao == 1 and resposta == 'b':\n",
    "        pontos = pontos + 1\n",
    "    if questao == 2 and resposta == 'a':\n",
    "        pontos = pontos +1\n",
    "    if questao == 3 and resposta == 'd':\n",
    "        pontos = pontos +1\n",
    "\n",
    "    questao = questao + 1\n",
    "\n",
    "print(f\"O aluno fez {pontos} pontos\")"
   ]
  },
  {
   "cell_type": "code",
   "execution_count": 17,
   "metadata": {},
   "outputs": [
    {
     "name": "stdout",
     "output_type": "stream",
     "text": [
      "1 x 1 = 1 * 1\n",
      "1 x 2 = 1 * 2\n",
      "1 x 3 = 1 * 3\n",
      "1 x 4 = 1 * 4\n",
      "1 x 5 = 1 * 5\n",
      "1 x 6 = 1 * 6\n",
      "1 x 7 = 1 * 7\n",
      "1 x 8 = 1 * 8\n",
      "1 x 9 = 1 * 9\n",
      "1 x 10 = 1 * 10\n",
      "2 x 1 = 2 * 1\n",
      "2 x 2 = 2 * 2\n",
      "2 x 3 = 2 * 3\n",
      "2 x 4 = 2 * 4\n",
      "2 x 5 = 2 * 5\n",
      "2 x 6 = 2 * 6\n",
      "2 x 7 = 2 * 7\n",
      "2 x 8 = 2 * 8\n",
      "2 x 9 = 2 * 9\n",
      "2 x 10 = 2 * 10\n",
      "3 x 1 = 3 * 1\n",
      "3 x 2 = 3 * 2\n",
      "3 x 3 = 3 * 3\n",
      "3 x 4 = 3 * 4\n",
      "3 x 5 = 3 * 5\n",
      "3 x 6 = 3 * 6\n",
      "3 x 7 = 3 * 7\n",
      "3 x 8 = 3 * 8\n",
      "3 x 9 = 3 * 9\n",
      "3 x 10 = 3 * 10\n",
      "4 x 1 = 4 * 1\n",
      "4 x 2 = 4 * 2\n",
      "4 x 3 = 4 * 3\n",
      "4 x 4 = 4 * 4\n",
      "4 x 5 = 4 * 5\n",
      "4 x 6 = 4 * 6\n",
      "4 x 7 = 4 * 7\n",
      "4 x 8 = 4 * 8\n",
      "4 x 9 = 4 * 9\n",
      "4 x 10 = 4 * 10\n",
      "5 x 1 = 5 * 1\n",
      "5 x 2 = 5 * 2\n",
      "5 x 3 = 5 * 3\n",
      "5 x 4 = 5 * 4\n",
      "5 x 5 = 5 * 5\n",
      "5 x 6 = 5 * 6\n",
      "5 x 7 = 5 * 7\n",
      "5 x 8 = 5 * 8\n",
      "5 x 9 = 5 * 9\n",
      "5 x 10 = 5 * 10\n",
      "6 x 1 = 6 * 1\n",
      "6 x 2 = 6 * 2\n",
      "6 x 3 = 6 * 3\n",
      "6 x 4 = 6 * 4\n",
      "6 x 5 = 6 * 5\n",
      "6 x 6 = 6 * 6\n",
      "6 x 7 = 6 * 7\n",
      "6 x 8 = 6 * 8\n",
      "6 x 9 = 6 * 9\n",
      "6 x 10 = 6 * 10\n",
      "7 x 1 = 7 * 1\n",
      "7 x 2 = 7 * 2\n",
      "7 x 3 = 7 * 3\n",
      "7 x 4 = 7 * 4\n",
      "7 x 5 = 7 * 5\n",
      "7 x 6 = 7 * 6\n",
      "7 x 7 = 7 * 7\n",
      "7 x 8 = 7 * 8\n",
      "7 x 9 = 7 * 9\n",
      "7 x 10 = 7 * 10\n",
      "8 x 1 = 8 * 1\n",
      "8 x 2 = 8 * 2\n",
      "8 x 3 = 8 * 3\n",
      "8 x 4 = 8 * 4\n",
      "8 x 5 = 8 * 5\n",
      "8 x 6 = 8 * 6\n",
      "8 x 7 = 8 * 7\n",
      "8 x 8 = 8 * 8\n",
      "8 x 9 = 8 * 9\n",
      "8 x 10 = 8 * 10\n",
      "9 x 1 = 9 * 1\n",
      "9 x 2 = 9 * 2\n",
      "9 x 3 = 9 * 3\n",
      "9 x 4 = 9 * 4\n",
      "9 x 5 = 9 * 5\n",
      "9 x 6 = 9 * 6\n",
      "9 x 7 = 9 * 7\n",
      "9 x 8 = 9 * 8\n",
      "9 x 9 = 9 * 9\n",
      "9 x 10 = 9 * 10\n",
      "10 x 1 = 10 * 1\n",
      "10 x 2 = 10 * 2\n",
      "10 x 3 = 10 * 3\n",
      "10 x 4 = 10 * 4\n",
      "10 x 5 = 10 * 5\n",
      "10 x 6 = 10 * 6\n",
      "10 x 7 = 10 * 7\n",
      "10 x 8 = 10 * 8\n",
      "10 x 9 = 10 * 9\n",
      "10 x 10 = 10 * 10\n"
     ]
    }
   ],
   "source": [
    "tabuada = 1\n",
    "\n",
    "while tabuada <= 10:\n",
    "\n",
    "    numero = 1\n",
    "\n",
    "    while numero <= 10:\n",
    "\n",
    "        print(f\"{tabuada} x {numero} = {tabuada} * {numero}\")\n",
    "\n",
    "        numero += 1\n",
    "\n",
    "    tabuada += 1\n",
    "\n"
   ]
  }
 ],
 "metadata": {
  "kernelspec": {
   "display_name": "Python 3",
   "language": "python",
   "name": "python3"
  },
  "language_info": {
   "codemirror_mode": {
    "name": "ipython",
    "version": 3
   },
   "file_extension": ".py",
   "mimetype": "text/x-python",
   "name": "python",
   "nbconvert_exporter": "python",
   "pygments_lexer": "ipython3",
   "version": "3.12.3"
  }
 },
 "nbformat": 4,
 "nbformat_minor": 2
}
